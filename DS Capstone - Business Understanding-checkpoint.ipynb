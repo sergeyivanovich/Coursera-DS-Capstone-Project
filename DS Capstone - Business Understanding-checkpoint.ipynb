{
 "cells": [
  {
   "cell_type": "markdown",
   "metadata": {},
   "source": [
    "# Predicting Road Accident Severity Using Machine Learning Models\n",
    "A Case Study on Road Accident Statistics in the United Kingdom"
   ]
  },
  {
   "cell_type": "markdown",
   "metadata": {},
   "source": [
    "## Business Understanding"
   ]
  },
  {
   "cell_type": "markdown",
   "metadata": {},
   "source": [
    "Road accidents became a hot topic for researchers and statisticians due to the increasing number of global traffic accidents recorded each year. According to the World Health Organisation (WHO), there were 1.35 million road traffic deaths in 2016 and road traffic injuries became the leading cause of death for children and young adults (aged 5-29) in recent decades. This shows that it is crucially important to study the factors leading to severe or fatal road accidents and having a better understanding of the circumstances may allow to further improve preventive measures and develop new safety technologies.\n",
    "\n",
    "The United Kingdom ranks among the top countries for road safety with the second lowest road accident fatality per million inhabitants in the European Union. (European Commission, 2017) There were more than 122 thousand road accidents recorded in 2018 with 25,511 reported severe injuries and 1,784 deaths. Until 2010, fatality rates had been constantly declining and were stabilised on its current rate in the past decade. According to the Department of Transport, extreme weather events have slightly influenced the annual figures, but the overall trends have not changed significantly in this period.\n",
    "\n",
    "The Department of Transport claims that the highest fatality rate is observed among vulnerable road user groups - namely pedestrians, pedal- and motorcyclist-, as they are more exposed in an event of colliding with other vehicles or objects. Although, there is no single underlying factor that drives road casualties, instead there are a number of influences can be observed. These are mostly distance travelled per driver, the mix of transport modes used, driver's behaviour, the mix of groups using the road (young inexperienced and older drivers) and external effects, such as weather and road conditions. \n",
    "\n",
    "With each accident being unique and a number of factors are hard to measure (e.g. fatigue) it is challanging to develop a generalised machine learning (GML) model that can predict accident severity with a high precision. Traditionally, statisticians may use the ordered probit (OP) model, ordered logit (OL) model, multinomial logit (ML) model, and logistic regression (LR) model. In recent years, there have been a wider application of GML models in the field, in particular the Bayesian network (BN) model, regression tree, and artificial neural networks (ANN). In this project, two common GML models will be used, namely the Support Vector Machine (SVM) and the classification tree."
   ]
  },
  {
   "cell_type": "code",
   "execution_count": null,
   "metadata": {},
   "outputs": [],
   "source": []
  }
 ],
 "metadata": {
  "kernelspec": {
   "display_name": "Python 3",
   "language": "python",
   "name": "python3"
  },
  "language_info": {
   "codemirror_mode": {
    "name": "ipython",
    "version": 3
   },
   "file_extension": ".py",
   "mimetype": "text/x-python",
   "name": "python",
   "nbconvert_exporter": "python",
   "pygments_lexer": "ipython3",
   "version": "3.7.1"
  }
 },
 "nbformat": 4,
 "nbformat_minor": 2
}
